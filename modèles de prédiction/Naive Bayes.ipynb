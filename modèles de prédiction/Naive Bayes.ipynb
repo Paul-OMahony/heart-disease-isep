{
 "cells": [
  {
   "cell_type": "markdown",
   "metadata": {},
   "source": [
    "# **IMPORTATIONS**"
   ]
  },
  {
   "cell_type": "code",
   "execution_count": 97,
   "metadata": {},
   "outputs": [],
   "source": [
    "import pandas as pd\n",
    "from sklearn.model_selection import train_test_split\n",
    "from sklearn.preprocessing import StandardScaler\n",
    "from sklearn.metrics import confusion_matrix\n",
    "from sklearn.metrics import accuracy_score, recall_score, precision_score, f1_score\n",
    "import matplotlib.pyplot as plt\n",
    "import seaborn as sns\n",
    "from sklearn.naive_bayes import GaussianNB"
   ]
  },
  {
   "cell_type": "code",
   "execution_count": 98,
   "metadata": {},
   "outputs": [],
   "source": [
    "import pickle\n",
    "with open('df_complete.pickle', 'rb') as f:\n",
    "    df = pickle.load(f)"
   ]
  },
  {
   "cell_type": "markdown",
   "metadata": {},
   "source": [
    "# **PRE-PROCESSING**"
   ]
  },
  {
   "cell_type": "markdown",
   "metadata": {},
   "source": [
    "On normalise les données et sépare les données d'entrainement et de tests : "
   ]
  },
  {
   "cell_type": "code",
   "execution_count": 99,
   "metadata": {},
   "outputs": [],
   "source": [
    "X, y = df.drop(columns=['num']).values, df['num'].values\n",
    "X_train, X_test, y_train, y_test = train_test_split(X, y, test_size = 0.2, shuffle=True)\n",
    "\n",
    "scaler = StandardScaler()\n",
    "X_train = scaler.fit_transform(X_train)\n",
    "X_test = scaler.transform(X_test)"
   ]
  },
  {
   "cell_type": "markdown",
   "metadata": {},
   "source": [
    "# **MODÈLE**"
   ]
  },
  {
   "cell_type": "markdown",
   "metadata": {},
   "source": [
    "Créons le \"classifier\" : "
   ]
  },
  {
   "cell_type": "code",
   "execution_count": 100,
   "metadata": {},
   "outputs": [
    {
     "data": {
      "text/plain": [
       "GaussianNB(priors=None, var_smoothing=1e-09)"
      ]
     },
     "execution_count": 100,
     "metadata": {},
     "output_type": "execute_result"
    }
   ],
   "source": [
    "classifier = GaussianNB()\n",
    "classifier.fit(X_train, y_train)"
   ]
  },
  {
   "cell_type": "code",
   "execution_count": 119,
   "metadata": {
    "scrolled": true
   },
   "outputs": [],
   "source": [
    "y_pred = classifier.predict(X_test)"
   ]
  },
  {
   "cell_type": "markdown",
   "metadata": {},
   "source": [
    "**Regardons les résultats pour les données tests :**"
   ]
  },
  {
   "cell_type": "markdown",
   "metadata": {},
   "source": [
    "* matrice de confusion :"
   ]
  },
  {
   "cell_type": "code",
   "execution_count": 120,
   "metadata": {},
   "outputs": [
    {
     "data": {
      "text/plain": [
       "Text(0.5, 1, 'Confusion Matrix')"
      ]
     },
     "execution_count": 120,
     "metadata": {},
     "output_type": "execute_result"
    },
    {
     "data": {
      "image/png": "[encoded data removed]",
      "text/plain": [
       "<Figure size 432x288 with 2 Axes>"
      ]
     },
     "metadata": {
      "needs_background": "light"
     },
     "output_type": "display_data"
    }
   ],
   "source": [
    "cm = confusion_matrix(y_pred, y_test)\n",
    "\n",
    "df_cm = pd.DataFrame(cm, index=['1','0'], columns = ['0','1'])\n",
    "fig = plt.figure()\n",
    "plt.clf()\n",
    "\n",
    "res = sns.heatmap(df_cm, annot=True)\n",
    "\n",
    "plt.yticks( [1.5,0,2], va='center')\n",
    "plt.title('Confusion Matrix')"
   ]
  },
  {
   "cell_type": "markdown",
   "metadata": {},
   "source": [
    "* accuracy :"
   ]
  },
  {
   "cell_type": "code",
   "execution_count": 121,
   "metadata": {},
   "outputs": [
    {
     "data": {
      "text/plain": [
       "0.8097826086956522"
      ]
     },
     "execution_count": 121,
     "metadata": {},
     "output_type": "execute_result"
    }
   ],
   "source": [
    "accuracy_score(y_pred, y_test)"
   ]
  },
  {
   "cell_type": "markdown",
   "metadata": {},
   "source": [
    "* sensibilité :"
   ]
  },
  {
   "cell_type": "code",
   "execution_count": 122,
   "metadata": {},
   "outputs": [
    {
     "name": "stdout",
     "output_type": "stream",
     "text": [
      "La sensibilité pour les données tests est : \n",
      "0.8446601941747572\n"
     ]
    }
   ],
   "source": [
    "tpr = recall_score(y_test, y_pred)\n",
    "print(\"La sensibilité pour les données tests est : \")\n",
    "print(tpr)"
   ]
  },
  {
   "cell_type": "markdown",
   "metadata": {},
   "source": [
    "* spécificité :"
   ]
  },
  {
   "cell_type": "code",
   "execution_count": 123,
   "metadata": {},
   "outputs": [],
   "source": [
    "tn, fp, fn, tp = cm.ravel()"
   ]
  },
  {
   "cell_type": "code",
   "execution_count": 124,
   "metadata": {},
   "outputs": [
    {
     "name": "stdout",
     "output_type": "stream",
     "text": [
      "La spécificité pour les données d'entrainement est : \n",
      "0.770392749244713\n"
     ]
    }
   ],
   "source": [
    "tnr_test = 1 - fp/(tn+fp)\n",
    "print(\"La spécificité pour les données d'entrainement est : \")\n",
    "print(tnr)"
   ]
  },
  {
   "cell_type": "markdown",
   "metadata": {},
   "source": [
    "* précision : "
   ]
  },
  {
   "cell_type": "code",
   "execution_count": 125,
   "metadata": {},
   "outputs": [
    {
     "name": "stdout",
     "output_type": "stream",
     "text": [
      "La précision pour les données tests est : \n",
      "0.8207547169811321\n"
     ]
    }
   ],
   "source": [
    "print(\"La précision pour les données tests est : \")\n",
    "print(precision_score(y_test, y_pred))"
   ]
  },
  {
   "cell_type": "markdown",
   "metadata": {},
   "source": [
    "* F-Measure : "
   ]
  },
  {
   "cell_type": "code",
   "execution_count": 126,
   "metadata": {},
   "outputs": [
    {
     "name": "stdout",
     "output_type": "stream",
     "text": [
      "F-Measure pour les données test : \n",
      "0.832535885167464\n"
     ]
    }
   ],
   "source": [
    "print(\"F-Measure pour les données test : \")\n",
    "print(f1_score(y_test, y_pred))"
   ]
  },
  {
   "cell_type": "markdown",
   "metadata": {},
   "source": [
    "**Regardons les résultats pour les données d'entrainement :**"
   ]
  },
  {
   "cell_type": "code",
   "execution_count": 127,
   "metadata": {},
   "outputs": [],
   "source": [
    "y_pred_train = classifier.predict(X_train)"
   ]
  },
  {
   "cell_type": "markdown",
   "metadata": {},
   "source": [
    "* matrice de confusion :"
   ]
  },
  {
   "cell_type": "code",
   "execution_count": 128,
   "metadata": {},
   "outputs": [
    {
     "data": {
      "text/plain": [
       "Text(0.5, 1, 'Confusion Matrix')"
      ]
     },
     "execution_count": 128,
     "metadata": {},
     "output_type": "execute_result"
    },
    {
     "data": {
      "image/png": "[encoded data removed]",
      "text/plain": [
       "<Figure size 432x288 with 2 Axes>"
      ]
     },
     "metadata": {
      "needs_background": "light"
     },
     "output_type": "display_data"
    }
   ],
   "source": [
    "cm = confusion_matrix(y_pred_train, y_train)\n",
    "\n",
    "df_cm = pd.DataFrame(cm, index=['1','0'], columns = ['0','1'])\n",
    "fig = plt.figure()\n",
    "plt.clf()\n",
    "\n",
    "res = sns.heatmap(df_cm, annot=True)\n",
    "\n",
    "plt.yticks( [1.5,0,2], va='center')\n",
    "plt.title('Confusion Matrix')"
   ]
  },
  {
   "cell_type": "markdown",
   "metadata": {},
   "source": [
    "* accuracy : "
   ]
  },
  {
   "cell_type": "code",
   "execution_count": 129,
   "metadata": {},
   "outputs": [
    {
     "data": {
      "text/plain": [
       "0.7942779291553134"
      ]
     },
     "execution_count": 129,
     "metadata": {},
     "output_type": "execute_result"
    }
   ],
   "source": [
    "accuracy_score(y_pred_train, y_train)"
   ]
  },
  {
   "cell_type": "markdown",
   "metadata": {},
   "source": [
    "* sensibilité :"
   ]
  },
  {
   "cell_type": "code",
   "execution_count": 130,
   "metadata": {},
   "outputs": [
    {
     "name": "stdout",
     "output_type": "stream",
     "text": [
      "La sensibilité pour les données d'entrainement est : \n",
      "0.8118811881188119\n"
     ]
    }
   ],
   "source": [
    "tpr = recall_score(y_train, y_pred_train)\n",
    "print(\"La sensibilité pour les données d'entrainement est : \")\n",
    "print(tpr)"
   ]
  },
  {
   "cell_type": "markdown",
   "metadata": {},
   "source": [
    "* spécificité :"
   ]
  },
  {
   "cell_type": "code",
   "execution_count": 131,
   "metadata": {},
   "outputs": [],
   "source": [
    "tn, fp, fn, tp = cm.ravel()"
   ]
  },
  {
   "cell_type": "code",
   "execution_count": 132,
   "metadata": {},
   "outputs": [
    {
     "name": "stdout",
     "output_type": "stream",
     "text": [
      "La spécificité pour les données d'entrainement est : \n",
      "0.770392749244713\n"
     ]
    }
   ],
   "source": [
    "tnr_train = 1 - fp/(tn+fp)\n",
    "print(\"La spécificité pour les données d'entrainement est : \")\n",
    "print(tnr)"
   ]
  },
  {
   "cell_type": "markdown",
   "metadata": {},
   "source": [
    "* précision :"
   ]
  },
  {
   "cell_type": "code",
   "execution_count": 133,
   "metadata": {},
   "outputs": [
    {
     "name": "stdout",
     "output_type": "stream",
     "text": [
      "La précision pour les données d'entrainement est : \n",
      "0.8138957816377171\n"
     ]
    }
   ],
   "source": [
    "print(\"La précision pour les données d'entrainement est : \")\n",
    "print(precision_score(y_train, y_pred_train))"
   ]
  },
  {
   "cell_type": "markdown",
   "metadata": {},
   "source": [
    "* F-Measure :"
   ]
  },
  {
   "cell_type": "code",
   "execution_count": 134,
   "metadata": {},
   "outputs": [
    {
     "name": "stdout",
     "output_type": "stream",
     "text": [
      "F-Measure pour les données d'entrainement : \n",
      "0.8128872366790584\n"
     ]
    }
   ],
   "source": [
    "print(\"F-Measure pour les données d'entrainement : \")\n",
    "print(f1_score(y_train, y_pred_train))"
   ]
  },
  {
   "cell_type": "markdown",
   "metadata": {},
   "source": [
    "**Regroupons les résultats dans un dataframe pandas :** "
   ]
  },
  {
   "cell_type": "code",
   "execution_count": 135,
   "metadata": {},
   "outputs": [
    {
     "data": {
      "text/html": [
       "<div>\n",
       "<style scoped>\n",
       "    .dataframe tbody tr th:only-of-type {\n",
       "        vertical-align: middle;\n",
       "    }\n",
       "\n",
       "    .dataframe tbody tr th {\n",
       "        vertical-align: top;\n",
       "    }\n",
       "\n",
       "    .dataframe thead th {\n",
       "        text-align: right;\n",
       "    }\n",
       "</style>\n",
       "<table border=\"1\" class=\"dataframe\">\n",
       "  <thead>\n",
       "    <tr style=\"text-align: right;\">\n",
       "      <th></th>\n",
       "      <th>Model</th>\n",
       "      <th>Training Set Accuracy</th>\n",
       "      <th>Test Set Accuracy</th>\n",
       "      <th>Training Set TPR</th>\n",
       "      <th>Test Set TPR</th>\n",
       "      <th>Training Set PPV</th>\n",
       "      <th>Test Set PPV</th>\n",
       "      <th>Training Set F-Measure</th>\n",
       "      <th>Test Set F-Measure</th>\n",
       "      <th>Training Set TNR</th>\n",
       "      <th>Test Set TNR</th>\n",
       "    </tr>\n",
       "  </thead>\n",
       "  <tbody>\n",
       "    <tr>\n",
       "      <th>0</th>\n",
       "      <td>Naive Bayes</td>\n",
       "      <td>0.794278</td>\n",
       "      <td>0.809783</td>\n",
       "      <td>0.811881</td>\n",
       "      <td>0.84466</td>\n",
       "      <td>0.813896</td>\n",
       "      <td>0.820755</td>\n",
       "      <td>0.812887</td>\n",
       "      <td>0.832536</td>\n",
       "      <td>0.770393</td>\n",
       "      <td>0.794872</td>\n",
       "    </tr>\n",
       "  </tbody>\n",
       "</table>\n",
       "</div>"
      ],
      "text/plain": [
       "         Model  Training Set Accuracy  Test Set Accuracy  Training Set TPR  \\\n",
       "0  Naive Bayes               0.794278           0.809783          0.811881   \n",
       "\n",
       "   Test Set TPR  Training Set PPV  Test Set PPV  Training Set F-Measure  \\\n",
       "0       0.84466          0.813896      0.820755                0.812887   \n",
       "\n",
       "   Test Set F-Measure  Training Set TNR  Test Set TNR  \n",
       "0            0.832536          0.770393      0.794872  "
      ]
     },
     "execution_count": 135,
     "metadata": {},
     "output_type": "execute_result"
    }
   ],
   "source": [
    "d = {\n",
    "     'Model': 'Naive Bayes',\n",
    "     'Training Set Accuracy': accuracy_score(y_pred_train, y_train),\n",
    "     'Test Set Accuracy': accuracy_score(y_pred, y_test),\n",
    "     'Training Set TPR' : recall_score(y_train, y_pred_train),\n",
    "     'Test Set TPR' : recall_score(y_test, y_pred),\n",
    "     'Training Set PPV' : precision_score(y_train, y_pred_train),\n",
    "     'Test Set PPV' : precision_score(y_test, y_pred),\n",
    "     'Training Set F-Measure' : f1_score(y_train, y_pred_train),\n",
    "     'Test Set F-Measure' : f1_score(y_test, y_pred),\n",
    "     'Training Set TNR' : tnr_train,\n",
    "     'Test Set TNR' : tnr_test\n",
    "}\n",
    "\n",
    "df_models_nb = pd.DataFrame(d, index=[0])\n",
    "df_models_nb"
   ]
  },
  {
   "cell_type": "code",
   "execution_count": 136,
   "metadata": {},
   "outputs": [],
   "source": [
    "with open('df_models_nb.pickle', 'wb') as output:\n",
    "    pickle.dump(df_models_nb, output)"
   ]
  }
 ],
 "metadata": {
  "kernelspec": {
   "display_name": "Python 3",
   "language": "python",
   "name": "python3"
  },
  "language_info": {
   "codemirror_mode": {
    "name": "ipython",
    "version": 3
   },
   "file_extension": ".py",
   "mimetype": "text/x-python",
   "name": "python",
   "nbconvert_exporter": "python",
   "pygments_lexer": "ipython3",
   "version": "3.7.3"
  }
 },
 "nbformat": 4,
 "nbformat_minor": 2
}
