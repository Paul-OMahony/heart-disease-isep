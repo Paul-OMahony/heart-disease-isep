{
 "cells": [
  {
   "cell_type": "markdown",
   "metadata": {},
   "source": [
    "# **IMPORTATIONS**"
   ]
  },
  {
   "cell_type": "code",
   "execution_count": 170,
   "metadata": {},
   "outputs": [],
   "source": [
    "import pickle\n",
    "import numpy as np\n",
    "from sklearn.feature_extraction.text import TfidfVectorizer\n",
    "from sklearn.neighbors import KNeighborsClassifier\n",
    "from pprint import pprint\n",
    "from sklearn.model_selection import RandomizedSearchCV\n",
    "from sklearn.model_selection import GridSearchCV\n",
    "from sklearn.metrics import confusion_matrix, accuracy_score, recall_score, precision_score, f1_score\n",
    "from sklearn.model_selection import ShuffleSplit\n",
    "import matplotlib.pyplot as plt\n",
    "import seaborn as sns\n",
    "import pandas as pd\n",
    "from sklearn.model_selection import train_test_split\n",
    "from sklearn.preprocessing import StandardScaler"
   ]
  },
  {
   "cell_type": "code",
   "execution_count": 171,
   "metadata": {},
   "outputs": [],
   "source": [
    "import pickle\n",
    "with open('df_complete.pickle', 'rb') as f:\n",
    "    df = pickle.load(f)"
   ]
  },
  {
   "cell_type": "markdown",
   "metadata": {},
   "source": [
    "# **PRE-PROCESSING**"
   ]
  },
  {
   "cell_type": "markdown",
   "metadata": {},
   "source": [
    "On normalise les données et sépare les données d'entrainement et de tests : "
   ]
  },
  {
   "cell_type": "code",
   "execution_count": 172,
   "metadata": {},
   "outputs": [],
   "source": [
    "X, y = df.drop(columns=['num']).values, df['num'].values\n",
    "X_train, X_test, y_train, y_test = train_test_split(X, y, test_size = 0.2, shuffle=True)\n",
    "\n",
    "scaler = StandardScaler()\n",
    "X_train = scaler.fit_transform(X_train)\n",
    "X_test = scaler.transform(X_test)"
   ]
  },
  {
   "cell_type": "markdown",
   "metadata": {},
   "source": [
    "# **MODÈLE**"
   ]
  },
  {
   "cell_type": "markdown",
   "metadata": {},
   "source": [
    "Regardons dans un premier temps les paramètre qu'utilise le KNeighborsClassifier par défault : "
   ]
  },
  {
   "cell_type": "code",
   "execution_count": 173,
   "metadata": {},
   "outputs": [
    {
     "name": "stdout",
     "output_type": "stream",
     "text": [
      "Paramètres utilisés : \n",
      "\n",
      "{'algorithm': 'auto',\n",
      " 'leaf_size': 30,\n",
      " 'metric': 'minkowski',\n",
      " 'metric_params': None,\n",
      " 'n_jobs': None,\n",
      " 'n_neighbors': 5,\n",
      " 'p': 2,\n",
      " 'weights': 'uniform'}\n"
     ]
    }
   ],
   "source": [
    "classifier = KNeighborsClassifier()\n",
    "print('Paramètres utilisés : \\n')\n",
    "pprint(classifier.get_params())"
   ]
  },
  {
   "cell_type": "markdown",
   "metadata": {},
   "source": [
    "On joue sur ces paramètres et notamment sur le nombre de voisins pour déterminer quels sont les meilleurs paramètres (en utilisant GridSearchCV) : "
   ]
  },
  {
   "cell_type": "code",
   "execution_count": 174,
   "metadata": {},
   "outputs": [
    {
     "name": "stdout",
     "output_type": "stream",
     "text": [
      "Fitting 3 folds for each of 100 candidates, totalling 300 fits\n"
     ]
    },
    {
     "name": "stderr",
     "output_type": "stream",
     "text": [
      "[Parallel(n_jobs=1)]: Using backend SequentialBackend with 1 concurrent workers.\n",
      "[Parallel(n_jobs=1)]: Done 300 out of 300 | elapsed:    5.3s finished\n"
     ]
    },
    {
     "data": {
      "text/plain": [
       "GridSearchCV(cv=ShuffleSplit(n_splits=3, random_state=8, test_size=0.33, train_size=None),\n",
       "             error_score='raise-deprecating',\n",
       "             estimator=KNeighborsClassifier(algorithm='auto', leaf_size=30,\n",
       "                                            metric='minkowski',\n",
       "                                            metric_params=None, n_jobs=None,\n",
       "                                            n_neighbors=5, p=2,\n",
       "                                            weights='uniform'),\n",
       "             iid='warn', n_jobs=None,\n",
       "             param_grid={'n_neighbors': [1, 2, 3, 4, 5, 6, 7, 8, 9, 10, 11, 12,\n",
       "                                         13, 14, 15, 16, 17, 18, 19, 20, 21, 22,\n",
       "                                         23, 24, 25, 26, 27, 28, 29, 30, ...]},\n",
       "             pre_dispatch='2*n_jobs', refit=True, return_train_score=False,\n",
       "             scoring='accuracy', verbose=1)"
      ]
     },
     "execution_count": 174,
     "metadata": {},
     "output_type": "execute_result"
    }
   ],
   "source": [
    "n_neighbors = [int(x) for x in np.linspace(start = 1, stop = 100, num = 100)]\n",
    "param_grid = {'n_neighbors': n_neighbors}\n",
    "knn = KNeighborsClassifier()\n",
    "cv_sets = ShuffleSplit(n_splits = 3, test_size = .33, random_state = 8)\n",
    "\n",
    "grid_search = GridSearchCV(estimator=knn, \n",
    "                           param_grid=param_grid,\n",
    "                           scoring='accuracy',\n",
    "                           cv=cv_sets,\n",
    "                           verbose=1)\n",
    "\n",
    "grid_search.fit(X_train, y_train)"
   ]
  },
  {
   "cell_type": "code",
   "execution_count": 175,
   "metadata": {},
   "outputs": [
    {
     "name": "stdout",
     "output_type": "stream",
     "text": [
      "Les meilleurs paramètres (d'après la GridSearch) sont :\n",
      "{'n_neighbors': 27}\n",
      "\n",
      "La précision moyenne d'un modèle avec ces hyperparamètres est:\n",
      "0.813443072702332\n"
     ]
    }
   ],
   "source": [
    "print(\"Les meilleurs paramètres (d'après la GridSearch) sont :\")\n",
    "print(grid_search.best_params_)\n",
    "print(\"\")\n",
    "print(\"La précision moyenne d'un modèle avec ces hyperparamètres est:\")\n",
    "print(grid_search.best_score_)"
   ]
  },
  {
   "cell_type": "markdown",
   "metadata": {},
   "source": [
    "On prend alors le modèle avec les meilleurs paramètres : "
   ]
  },
  {
   "cell_type": "code",
   "execution_count": 176,
   "metadata": {},
   "outputs": [],
   "source": [
    "best_knn = grid_search.best_estimator_"
   ]
  },
  {
   "cell_type": "code",
   "execution_count": 177,
   "metadata": {},
   "outputs": [
    {
     "data": {
      "text/plain": [
       "KNeighborsClassifier(algorithm='auto', leaf_size=30, metric='minkowski',\n",
       "                     metric_params=None, n_jobs=None, n_neighbors=27, p=2,\n",
       "                     weights='uniform')"
      ]
     },
     "execution_count": 177,
     "metadata": {},
     "output_type": "execute_result"
    }
   ],
   "source": [
    "best_knn.fit(X_train, y_train)"
   ]
  },
  {
   "cell_type": "code",
   "execution_count": 178,
   "metadata": {},
   "outputs": [],
   "source": [
    "knn_pred = best_knn.predict(X_test)"
   ]
  },
  {
   "cell_type": "markdown",
   "metadata": {},
   "source": [
    "**Regardons les résultats pour les données d'entrainement :**"
   ]
  },
  {
   "cell_type": "markdown",
   "metadata": {},
   "source": [
    "* matrice de confusion :"
   ]
  },
  {
   "cell_type": "code",
   "execution_count": 179,
   "metadata": {},
   "outputs": [
    {
     "data": {
      "text/plain": [
       "Text(0.5, 1, 'Confusion Matrix')"
      ]
     },
     "execution_count": 179,
     "metadata": {},
     "output_type": "execute_result"
    },
    {
     "data": {
      "image/png": "[encoded data removed]",
      "text/plain": [
       "<Figure size 432x288 with 2 Axes>"
      ]
     },
     "metadata": {
      "needs_background": "light"
     },
     "output_type": "display_data"
    }
   ],
   "source": [
    "cm = confusion_matrix(y_train, best_knn.predict(X_train))\n",
    "\n",
    "df_cm = pd.DataFrame(cm, index=['1','0'], columns = ['0','1'])\n",
    "fig = plt.figure()\n",
    "plt.clf()\n",
    "\n",
    "res = sns.heatmap(df_cm, annot=True)\n",
    "\n",
    "plt.yticks( [1.5,0,2], va='center')\n",
    "plt.title('Confusion Matrix')"
   ]
  },
  {
   "cell_type": "markdown",
   "metadata": {},
   "source": [
    "* accuracy : "
   ]
  },
  {
   "cell_type": "code",
   "execution_count": 180,
   "metadata": {},
   "outputs": [
    {
     "name": "stdout",
     "output_type": "stream",
     "text": [
      "Accuracy pour les données d'entrainement est : \n",
      "0.8147138964577657\n"
     ]
    }
   ],
   "source": [
    "print(\"Accuracy pour les données d'entrainement est : \")\n",
    "print(accuracy_score(y_train, best_knn.predict(X_train)))"
   ]
  },
  {
   "cell_type": "markdown",
   "metadata": {},
   "source": [
    "* sensibilité : "
   ]
  },
  {
   "cell_type": "code",
   "execution_count": 181,
   "metadata": {},
   "outputs": [
    {
     "name": "stdout",
     "output_type": "stream",
     "text": [
      "La sensibilité pour les données d'entrainement est : \n",
      "0.837772397094431\n"
     ]
    }
   ],
   "source": [
    "tpr = recall_score(y_train, best_knn.predict(X_train))\n",
    "print(\"La sensibilité pour les données d'entrainement est : \")\n",
    "print(tpr)"
   ]
  },
  {
   "cell_type": "markdown",
   "metadata": {},
   "source": [
    "* précision : "
   ]
  },
  {
   "cell_type": "code",
   "execution_count": 182,
   "metadata": {},
   "outputs": [
    {
     "name": "stdout",
     "output_type": "stream",
     "text": [
      "La précision pour les données d'entrainement est : \n",
      "0.8337349397590361\n"
     ]
    }
   ],
   "source": [
    "print(\"La précision pour les données d'entrainement est : \")\n",
    "print(precision_score(y_train, best_knn.predict(X_train)))"
   ]
  },
  {
   "cell_type": "markdown",
   "metadata": {},
   "source": [
    "* F-Measure :"
   ]
  },
  {
   "cell_type": "code",
   "execution_count": 183,
   "metadata": {},
   "outputs": [
    {
     "name": "stdout",
     "output_type": "stream",
     "text": [
      "F-Measure pour les données d'entrainement : \n",
      "0.8357487922705313\n"
     ]
    }
   ],
   "source": [
    "print(\"F-Measure pour les données d'entrainement : \")\n",
    "print(f1_score(y_train, best_knn.predict(X_train)))"
   ]
  },
  {
   "cell_type": "markdown",
   "metadata": {},
   "source": [
    "**Résultats pour les données tests :**"
   ]
  },
  {
   "cell_type": "markdown",
   "metadata": {},
   "source": [
    "* matrice de confusion : "
   ]
  },
  {
   "cell_type": "code",
   "execution_count": 184,
   "metadata": {},
   "outputs": [
    {
     "data": {
      "text/plain": [
       "Text(0.5, 1, 'Confusion Matrix')"
      ]
     },
     "execution_count": 184,
     "metadata": {},
     "output_type": "execute_result"
    },
    {
     "data": {
      "image/png": "[encoded data removed]",
      "text/plain": [
       "<Figure size 432x288 with 2 Axes>"
      ]
     },
     "metadata": {
      "needs_background": "light"
     },
     "output_type": "display_data"
    }
   ],
   "source": [
    "cm = confusion_matrix(y_test, knn_pred)\n",
    "\n",
    "df_cm = pd.DataFrame(cm, index=['1','0'], columns = ['0','1'])\n",
    "fig = plt.figure()\n",
    "plt.clf()\n",
    "\n",
    "res = sns.heatmap(df_cm, annot=True)\n",
    "\n",
    "plt.yticks( [1.5,0,2], va='center')\n",
    "plt.title('Confusion Matrix')"
   ]
  },
  {
   "cell_type": "markdown",
   "metadata": {},
   "source": [
    "* accuracy : "
   ]
  },
  {
   "cell_type": "code",
   "execution_count": 185,
   "metadata": {},
   "outputs": [
    {
     "name": "stdout",
     "output_type": "stream",
     "text": [
      "Accuracy pour les données test : \n",
      "0.8152173913043478\n"
     ]
    }
   ],
   "source": [
    "print(\"Accuracy pour les données test : \")\n",
    "print(accuracy_score(y_test, knn_pred))"
   ]
  },
  {
   "cell_type": "markdown",
   "metadata": {},
   "source": [
    "* sensibilité : "
   ]
  },
  {
   "cell_type": "code",
   "execution_count": 186,
   "metadata": {},
   "outputs": [
    {
     "name": "stdout",
     "output_type": "stream",
     "text": [
      "La sensibilité pour les données tests est : \n",
      "0.8723404255319149\n"
     ]
    }
   ],
   "source": [
    "tpr = recall_score(y_test, knn_pred)\n",
    "print(\"La sensibilité pour les données tests est : \")\n",
    "print(tpr)"
   ]
  },
  {
   "cell_type": "markdown",
   "metadata": {},
   "source": [
    "* précision : "
   ]
  },
  {
   "cell_type": "code",
   "execution_count": 187,
   "metadata": {},
   "outputs": [
    {
     "name": "stdout",
     "output_type": "stream",
     "text": [
      "La précision pour les données test est : \n",
      "0.7884615384615384\n"
     ]
    }
   ],
   "source": [
    "print(\"La précision pour les données test est : \")\n",
    "print(precision_score(y_test, knn_pred))"
   ]
  },
  {
   "cell_type": "markdown",
   "metadata": {},
   "source": [
    "* F-Measure : "
   ]
  },
  {
   "cell_type": "code",
   "execution_count": 188,
   "metadata": {},
   "outputs": [
    {
     "name": "stdout",
     "output_type": "stream",
     "text": [
      "F-Measure pour les données test : \n",
      "0.8282828282828283\n"
     ]
    }
   ],
   "source": [
    "print(\"F-Measure pour les données test : \")\n",
    "print(f1_score(y_test, knn_pred))"
   ]
  },
  {
   "cell_type": "markdown",
   "metadata": {},
   "source": [
    "**Regroupons tout ça dans un dataframe pandas :**"
   ]
  },
  {
   "cell_type": "code",
   "execution_count": 189,
   "metadata": {},
   "outputs": [
    {
     "data": {
      "text/html": [
       "<div>\n",
       "<style scoped>\n",
       "    .dataframe tbody tr th:only-of-type {\n",
       "        vertical-align: middle;\n",
       "    }\n",
       "\n",
       "    .dataframe tbody tr th {\n",
       "        vertical-align: top;\n",
       "    }\n",
       "\n",
       "    .dataframe thead th {\n",
       "        text-align: right;\n",
       "    }\n",
       "</style>\n",
       "<table border=\"1\" class=\"dataframe\">\n",
       "  <thead>\n",
       "    <tr style=\"text-align: right;\">\n",
       "      <th></th>\n",
       "      <th>Model</th>\n",
       "      <th>Training Set Accuracy</th>\n",
       "      <th>Test Set Accuracy</th>\n",
       "      <th>Training Set TPR</th>\n",
       "      <th>Test Set TPR</th>\n",
       "      <th>Training Set PPV</th>\n",
       "      <th>Test Set PPV</th>\n",
       "      <th>Training Set F-Measure</th>\n",
       "      <th>Test Set F-Measure</th>\n",
       "    </tr>\n",
       "  </thead>\n",
       "  <tbody>\n",
       "    <tr>\n",
       "      <th>0</th>\n",
       "      <td>KNN</td>\n",
       "      <td>0.814714</td>\n",
       "      <td>0.815217</td>\n",
       "      <td>0.837772</td>\n",
       "      <td>0.87234</td>\n",
       "      <td>0.833735</td>\n",
       "      <td>0.788462</td>\n",
       "      <td>0.835749</td>\n",
       "      <td>0.828283</td>\n",
       "    </tr>\n",
       "  </tbody>\n",
       "</table>\n",
       "</div>"
      ],
      "text/plain": [
       "  Model  Training Set Accuracy  Test Set Accuracy  Training Set TPR  \\\n",
       "0   KNN               0.814714           0.815217          0.837772   \n",
       "\n",
       "   Test Set TPR  Training Set PPV  Test Set PPV  Training Set F-Measure  \\\n",
       "0       0.87234          0.833735      0.788462                0.835749   \n",
       "\n",
       "   Test Set F-Measure  \n",
       "0            0.828283  "
      ]
     },
     "execution_count": 189,
     "metadata": {},
     "output_type": "execute_result"
    }
   ],
   "source": [
    "d = {\n",
    "     'Model': 'KNN',\n",
    "     'Training Set Accuracy': accuracy_score(y_train, best_knn.predict(X_train)),\n",
    "     'Test Set Accuracy': accuracy_score(y_test, knn_pred),\n",
    "     'Training Set TPR' : recall_score(y_train, best_knn.predict(X_train)),\n",
    "     'Test Set TPR' : recall_score(y_test, knn_pred),\n",
    "     'Training Set PPV' : precision_score(y_train, best_knn.predict(X_train)),\n",
    "     'Test Set PPV' : precision_score(y_test, knn_pred),\n",
    "     'Training Set F-Measure' : f1_score(y_train, best_knn.predict(X_train)),\n",
    "     'Test Set F-Measure' : f1_score(y_test, knn_pred)\n",
    "}\n",
    "\n",
    "df_models_knn = pd.DataFrame(d, index=[0])\n",
    "df_models_knn"
   ]
  },
  {
   "cell_type": "code",
   "execution_count": 190,
   "metadata": {},
   "outputs": [],
   "source": [
    "with open('df_models_knn.pickle', 'wb') as output:\n",
    "    pickle.dump(df_models_knn, output)"
   ]
  }
 ],
 "metadata": {
  "kernelspec": {
   "display_name": "Python 3",
   "language": "python",
   "name": "python3"
  },
  "language_info": {
   "codemirror_mode": {
    "name": "ipython",
    "version": 3
   },
   "file_extension": ".py",
   "mimetype": "text/x-python",
   "name": "python",
   "nbconvert_exporter": "python",
   "pygments_lexer": "ipython3",
   "version": "3.7.3"
  }
 },
 "nbformat": 4,
 "nbformat_minor": 2
}
